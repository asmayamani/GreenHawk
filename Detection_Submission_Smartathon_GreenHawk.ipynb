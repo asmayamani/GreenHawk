{
  "cells": [
    {
      "cell_type": "markdown",
      "metadata": {
        "id": "N_w3JVeJs5HW"
      },
      "source": [
        "#Inference file for GreenHawak model\n",
        "\n",
        "This file contains the workflow for the inerference to reproduce the submission using our state of the aart finetuned YOLO8 model for visual pollution detection or infer on new subsets"
      ]
    },
    {
      "cell_type": "code",
      "execution_count": 83,
      "metadata": {
        "colab": {
          "base_uri": "https://localhost:8080/"
        },
        "id": "mu6QsWMXNX1j",
        "outputId": "570dc900-aa55-4024-f5df-069bb3687c10"
      },
      "outputs": [
        {
          "output_type": "stream",
          "name": "stdout",
          "text": [
            "/content\n"
          ]
        }
      ],
      "source": [
        "import os\n",
        "HOME = os.getcwd()\n",
        "print(HOME)"
      ]
    },
    {
      "cell_type": "code",
      "execution_count": 85,
      "metadata": {
        "colab": {
          "base_uri": "https://localhost:8080/"
        },
        "id": "QaiWNtzpNaOh",
        "outputId": "d75cbed8-a14f-4ce9-dbac-b3db5dfcc4d1"
      },
      "outputs": [
        {
          "output_type": "stream",
          "name": "stdout",
          "text": [
            "Cloning into 'GreenHawk'...\n",
            "remote: Enumerating objects: 33, done.\u001b[K\n",
            "remote: Counting objects: 100% (33/33), done.\u001b[K\n",
            "remote: Compressing objects: 100% (31/31), done.\u001b[K\n",
            "remote: Total 33 (delta 10), reused 0 (delta 0), pack-reused 0\u001b[K\n",
            "Unpacking objects: 100% (33/33), 40.11 MiB | 7.13 MiB/s, done.\n"
          ]
        }
      ],
      "source": [
        "# !pip install ultralytics\n",
        "!git clone https://github.com/asmayamani/GreenHawk.git\n"
      ]
    },
    {
      "cell_type": "code",
      "execution_count": null,
      "metadata": {
        "id": "FSByUBukNcqD"
      },
      "outputs": [],
      "source": [
        "from ultralytics import YOLO\n",
        "import glob\n",
        "import pandas as pd\n",
        "from IPython.display import display, Image\n",
        "from pathlib import Path    "
      ]
    },
    {
      "cell_type": "code",
      "execution_count": null,
      "metadata": {
        "colab": {
          "base_uri": "https://localhost:8080/",
          "height": 381
        },
        "id": "JTxmLRUFtFmk",
        "outputId": "15b47acc-e5db-437d-c33f-a49fc3de5059"
      },
      "outputs": [
        {
          "name": "stdout",
          "output_type": "stream",
          "text": [
            "Looking in indexes: https://pypi.org/simple, https://us-python.pkg.dev/colab-wheels/public/simple/\n",
            "Collecting omegaconf\n",
            "  Downloading omegaconf-2.3.0-py3-none-any.whl (79 kB)\n",
            "\u001b[2K     \u001b[90m━━━━━━━━━━━━━━━━━━━━━━━━━━━━━━━━━━━━━━━━\u001b[0m \u001b[32m79.5/79.5 KB\u001b[0m \u001b[31m5.3 MB/s\u001b[0m eta \u001b[36m0:00:00\u001b[0m\n",
            "\u001b[?25hRequirement already satisfied: PyYAML>=5.1.0 in /usr/local/lib/python3.8/dist-packages (from omegaconf) (6.0)\n",
            "Collecting antlr4-python3-runtime==4.9.*\n",
            "  Downloading antlr4-python3-runtime-4.9.3.tar.gz (117 kB)\n",
            "\u001b[2K     \u001b[90m━━━━━━━━━━━━━━━━━━━━━━━━━━━━━━━━━━━━━━\u001b[0m \u001b[32m117.0/117.0 KB\u001b[0m \u001b[31m13.0 MB/s\u001b[0m eta \u001b[36m0:00:00\u001b[0m\n",
            "\u001b[?25h  Preparing metadata (setup.py) ... \u001b[?25l\u001b[?25hdone\n",
            "Building wheels for collected packages: antlr4-python3-runtime\n",
            "  Building wheel for antlr4-python3-runtime (setup.py) ... \u001b[?25l\u001b[?25hdone\n",
            "  Created wheel for antlr4-python3-runtime: filename=antlr4_python3_runtime-4.9.3-py3-none-any.whl size=144575 sha256=65d71e4c525052456ff8fbcc893ab6d306bd01076acbcb7056c606b3a14a76e4\n",
            "  Stored in directory: /root/.cache/pip/wheels/b1/a3/c2/6df046c09459b73cc9bb6c4401b0be6c47048baf9a1617c485\n",
            "Successfully built antlr4-python3-runtime\n",
            "Installing collected packages: antlr4-python3-runtime, omegaconf\n",
            "Successfully installed antlr4-python3-runtime-4.9.3 omegaconf-2.3.0\n"
          ]
        },
        {
          "data": {
            "application/vnd.colab-display-data+json": {
              "pip_warning": {
                "packages": [
                  "pydevd_plugins"
                ]
              }
            }
          },
          "metadata": {},
          "output_type": "display_data"
        }
      ],
      "source": [
        "!pip install omegaconf"
      ]
    },
    {
      "cell_type": "code",
      "execution_count": null,
      "metadata": {
        "colab": {
          "base_uri": "https://localhost:8080/"
        },
        "id": "CbOQ4TCiOFix",
        "outputId": "3dcc06aa-2ae2-4f37-d839-47ca672e00c5"
      },
      "outputs": [
        {
          "name": "stdout",
          "output_type": "stream",
          "text": [
            "Mounted at /content/drive\n"
          ]
        }
      ],
      "source": [
        "from google.colab import drive\n",
        "drive.mount('/content/drive', force_remount= True)\n"
      ]
    },
    {
      "cell_type": "markdown",
      "metadata": {
        "id": "jiwswxYtsXlw"
      },
      "source": [
        "#Make the detection with submitted model"
      ]
    },
    {
      "cell_type": "code",
      "execution_count": null,
      "metadata": {
        "id": "nwQiM3l8NskX"
      },
      "outputs": [],
      "source": [
        "import yaml\n",
        "config = {\n",
        "         'train': '/content/drive/MyDrive/Smartathon/TrainF/images/',\n",
        "         'val': '/content/drive/MyDrive/Smartathon/ValF/images/',\n",
        "         'nc': 11,\n",
        "         'names': ['graffiti','faded_signage','potholes','garbage',\n",
        "                   'construction_road','broken_signage',\n",
        "                   'bad_streetlight','bad_billboard','sand_on_road','clutter_sidewalk','unkept_facade']}\n",
        "\n",
        "with open(\"data.yaml\", \"w\") as file:\n",
        "    yaml.dump(config, file, default_flow_style=False)"
      ]
    },
    {
      "cell_type": "code",
      "execution_count": 86,
      "metadata": {
        "colab": {
          "base_uri": "https://localhost:8080/"
        },
        "id": "q4nTgWyBZGjK",
        "outputId": "35aa7e96-2728-46df-88f0-7a70ca30560b"
      },
      "outputs": [
        {
          "output_type": "stream",
          "name": "stdout",
          "text": [
            "Archive:  /content/drive/MyDrive/Smartathon/WRP/Iteration_18/Iteration18a_W.zip\n",
            "replace content/runs/detect/train3/weights/best.pt? [y]es, [n]o, [A]ll, [N]one, [r]ename: y\n",
            "  inflating: content/runs/detect/train3/weights/best.pt  \n"
          ]
        }
      ],
      "source": [
        "!unzip /content/drive/MyDrive/Smartathon/WRP/Iteration_18/Iteration18a_W.zip\n"
      ]
    },
    {
      "cell_type": "code",
      "execution_count": 88,
      "metadata": {
        "id": "GI6MTOVRhKNw"
      },
      "outputs": [],
      "source": [
        "#make sure this is the correct path for the test images\n",
        "test_data = '/content/drive/MyDrive/GreenHawk/Dataset/TestF/images'\n",
        "weights_path = '/content/GreenHawk/best.pt'\n"
      ]
    },
    {
      "cell_type": "code",
      "execution_count": null,
      "metadata": {
        "colab": {
          "base_uri": "https://localhost:8080/"
        },
        "id": "hZ7ZgBPwNruW",
        "outputId": "7432b925-5712-43e0-bed7-7bde54d25755"
      },
      "outputs": [
        {
          "output_type": "stream",
          "name": "stdout",
          "text": [
            "/content\n",
            "Ultralytics YOLOv8.0.13 🚀 Python-3.8.10 torch-1.13.1+cu116 CPU\n",
            "Fusing... \n",
            "Model summary: 168 layers, 11129841 parameters, 0 gradients, 28.5 GFLOPs\n",
            "image 1/2092 /content/drive/MyDrive/GreenHawk/Dataset/TestF/images/006e04a34f54d116f6aff2bb31cb320c.jpg: 384x640 1 garbage, 504.6ms\n",
            "image 2/2092 /content/drive/MyDrive/GreenHawk/Dataset/TestF/images/006e70d6a51af3e670bbe712a83aa1c5.jpg: 384x640 2 garbages, 326.7ms\n",
            "image 3/2092 /content/drive/MyDrive/GreenHawk/Dataset/TestF/images/0081b25823f23a536c9f1952491db636.jpg: 384x640 2 garbages, 326.5ms\n",
            "image 4/2092 /content/drive/MyDrive/GreenHawk/Dataset/TestF/images/00b48429c1382cc7d1c72926acedbaa7.jpg: 384x640 2 construction_roads, 1 bad_billboard, 303.5ms\n",
            "image 5/2092 /content/drive/MyDrive/GreenHawk/Dataset/TestF/images/00b5fc2d3153637e65a35363295e14ba.jpg: 384x640 1 bad_billboard, 320.8ms\n",
            "image 6/2092 /content/drive/MyDrive/GreenHawk/Dataset/TestF/images/00bce25b1d3a3422bb366a12e3e9ac6a.jpg: 384x640 2 garbages, 1 construction_road, 314.8ms\n",
            "image 7/2092 /content/drive/MyDrive/GreenHawk/Dataset/TestF/images/00df7d46d661eba176ccc167f2763585.jpg: 384x640 1 garbage, 309.7ms\n",
            "image 8/2092 /content/drive/MyDrive/GreenHawk/Dataset/TestF/images/00f12b9ba667d2c9e60aabf56afc5c6c.jpg: 384x640 2 potholess, 549.1ms\n",
            "image 9/2092 /content/drive/MyDrive/GreenHawk/Dataset/TestF/images/012096618361635b074b072f8af26a97.jpg: 384x640 2 graffitis, 1 garbage, 670.4ms\n",
            "image 10/2092 /content/drive/MyDrive/GreenHawk/Dataset/TestF/images/01267cf16572d5ec876f0111c5af4526.jpg: 384x640 3 potholess, 612.7ms\n",
            "image 11/2092 /content/drive/MyDrive/GreenHawk/Dataset/TestF/images/012b49cf858552511458c440199ed082.jpg: 384x640 1 potholes, 331.1ms\n",
            "image 12/2092 /content/drive/MyDrive/GreenHawk/Dataset/TestF/images/013a2601f72a8aeb8d4bdbd863885108.jpg: 384x640 4 garbages, 314.1ms\n",
            "image 13/2092 /content/drive/MyDrive/GreenHawk/Dataset/TestF/images/015ee63e99a9f68fa48987ddeb39760b.jpg: 384x640 321.9ms\n",
            "image 14/2092 /content/drive/MyDrive/GreenHawk/Dataset/TestF/images/017b67afb90ed9a2e08daccab55a1ad1.jpg: 384x640 1 garbage, 339.8ms\n",
            "image 15/2092 /content/drive/MyDrive/GreenHawk/Dataset/TestF/images/018441aca0d10d25829c985bc400596b.jpg: 384x640 2 potholess, 405.9ms\n",
            "image 16/2092 /content/drive/MyDrive/GreenHawk/Dataset/TestF/images/01b010e04b475afa9b1e4e564000970d.jpg: 384x640 3 clutter_sidewalks, 438.2ms\n",
            "image 17/2092 /content/drive/MyDrive/GreenHawk/Dataset/TestF/images/01b3f6dd9e2c9e42d80017a0df8896d6.jpg: 384x640 4 garbages, 1 construction_road, 310.9ms\n",
            "image 18/2092 /content/drive/MyDrive/GreenHawk/Dataset/TestF/images/01f2b5e3bb064105b43f5e32c40870c7.jpg: 384x640 2 potholess, 311.7ms\n",
            "image 19/2092 /content/drive/MyDrive/GreenHawk/Dataset/TestF/images/0227544122e5836bbeeef642241a81c2.jpg: 384x640 310.7ms\n",
            "image 20/2092 /content/drive/MyDrive/GreenHawk/Dataset/TestF/images/023635a9e76f3c09d07824e19ee83d37.jpg: 384x640 2 bad_billboards, 312.1ms\n",
            "image 21/2092 /content/drive/MyDrive/GreenHawk/Dataset/TestF/images/024602a9dbca6d8964416611c547fce1.jpg: 384x640 2 garbages, 965.4ms\n"
          ]
        }
      ],
      "source": [
        "%cd {HOME}\n",
        "\n",
        "!yolo task=detect mode=predict source={test_data} model={weights_path} imgsz=640 plots=False  save_txt=True save_conf=True save_crop=False  iou=0.25 conf=0.25"
      ]
    },
    {
      "cell_type": "markdown",
      "metadata": {
        "id": "E5h3tP5tsKQb"
      },
      "source": [
        "#Prepare the submission files"
      ]
    },
    {
      "cell_type": "code",
      "execution_count": null,
      "metadata": {
        "id": "yLFVbi8X-4mK"
      },
      "outputs": [],
      "source": [
        "names = {'0': 'GRAFFITI', '1': 'FADED_SIGNAGE', '2' : 'POTHOLES', '3':'GARBAGE', '4': 'CONSTRUCTION_ROAD', '5': 'BROKEN_SIGNAGE','6':'' ,'7': 'BAD_BILLBOARD', '8': 'SAND_ON_ROAD', '9' : 'CLUTTER_SIDEWALK' , \n",
        "                   '6':'BAD_STREETLIGHT','10':'UNKEPT_FACADE'}"
      ]
    },
    {
      "cell_type": "code",
      "execution_count": null,
      "metadata": {
        "id": "nAvqaMXg-jbE"
      },
      "outputs": [],
      "source": [
        "def yolo_to_xml_bbox(bbox, w, h):\n",
        "    # x_center, y_center width heigth\n",
        "    w_half_len = (bbox[2] * w) / 2\n",
        "    h_half_len = (bbox[3] * h) / 2\n",
        "    xmin = int((bbox[0] * w) - w_half_len)\n",
        "    ymin = int((bbox[1] * h) - h_half_len)\n",
        "    xmax = int((bbox[0] * w) + w_half_len)\n",
        "    ymax = int((bbox[1] * h) + h_half_len)\n",
        "    #devide by 2 to match competition expectation\n",
        "    return [xmax/2,\txmin/2,\tymax/2,\tymin/2]\n"
      ]
    },
    {
      "cell_type": "code",
      "execution_count": 79,
      "metadata": {
        "id": "m-hIsp9wr09l"
      },
      "outputs": [],
      "source": [
        "#Make sure this is the correct path for the predictions made\n",
        "inferenceFiles = glob.glob('/content/runs/detect/predict/labels/*.txt')"
      ]
    },
    {
      "cell_type": "code",
      "execution_count": 80,
      "metadata": {
        "id": "0OqdKQdm1uvl"
      },
      "outputs": [],
      "source": [
        "#convert yolo laabels to xml annotation\n",
        "entries = []\n",
        "for infPath in inferenceFiles:\n",
        "  try:\n",
        "    with open(infPath, 'r') as file2:  # read annotation.txt\n",
        "        for row in [x.split(' ') for x in file2.read().strip().splitlines()]:\n",
        "          xml = yolo_to_xml_bbox([float(row[1]),float(row[2]),float(row[3]),float(row[4])],1920,1080)\n",
        "          entry = [float(row[0]),Path(infPath).name[:-4]+'.jpg',names[row[0]],xml[0],xml[1],xml[2],xml[3]]\n",
        "          entries.append(entry)\n",
        "\n",
        "    file2.close()\n",
        "  except (IOError, OSError) as e:\n",
        "      print(e)\n",
        "\n"
      ]
    },
    {
      "cell_type": "code",
      "execution_count": 81,
      "metadata": {
        "colab": {
          "base_uri": "https://localhost:8080/"
        },
        "id": "GaGDq5hgbZUp",
        "outputId": "4589bc7a-9c62-47e6-9449-7bea216811e0"
      },
      "outputs": [
        {
          "output_type": "stream",
          "name": "stdout",
          "text": [
            "1841\n"
          ]
        }
      ],
      "source": [
        "#add 1px obj\n",
        "detected = [Path(pth).name[:-4] for pth in inferenceFiles]\n",
        "print(len(detected))\n",
        "alltest = [Path(pth).name[:-4] for pth in (glob.glob('/content/drive/MyDrive/Smartathon/TestF/images'+'/*.jpg'))]\n",
        "undetected = list(set(alltest) - set(detected))\n",
        "\n",
        "for ftest in undetected:\n",
        "    entry = [float(6),ftest+'.jpg',names['6'],1,0,1,0]\n",
        "    entries.append(entry)\n",
        "\n"
      ]
    },
    {
      "cell_type": "code",
      "execution_count": 82,
      "metadata": {
        "id": "_QBHA8xCbYmR"
      },
      "outputs": [],
      "source": [
        "#saves the submission\n",
        "solutionDataFrame = pd.DataFrame(entries,columns= ['class','image_path','name','xmax','xmin','ymax','ymin'])\n",
        "solutionDataFrame.to_csv('submission18rbest_025_025_s.csv',index=False)"
      ]
    }
  ],
  "metadata": {
    "colab": {
      "provenance": []
    },
    "gpuClass": "standard",
    "kernelspec": {
      "display_name": "Python 3",
      "name": "python3"
    },
    "language_info": {
      "name": "python"
    }
  },
  "nbformat": 4,
  "nbformat_minor": 0
}